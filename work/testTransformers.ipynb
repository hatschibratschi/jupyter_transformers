{
 "cells": [
  {
   "cell_type": "code",
   "execution_count": 1,
   "id": "d26fad21-3669-4d74-9723-c1593e4007e9",
   "metadata": {},
   "outputs": [
    {
     "name": "stderr",
     "output_type": "stream",
     "text": [
      "No model was supplied, defaulted to distilbert-base-uncased-finetuned-sst-2-english and revision af0f99b (https://huggingface.co/distilbert-base-uncased-finetuned-sst-2-english).\n",
      "Using a pipeline without specifying a model name and revision in production is not recommended.\n"
     ]
    },
    {
     "data": {
      "application/vnd.jupyter.widget-view+json": {
       "model_id": "1ce182b46a1c4178bcd0162bbad66771",
       "version_major": 2,
       "version_minor": 0
      },
      "text/plain": [
       "Downloading config.json:   0%|          | 0.00/629 [00:00<?, ?B/s]"
      ]
     },
     "metadata": {},
     "output_type": "display_data"
    },
    {
     "data": {
      "application/vnd.jupyter.widget-view+json": {
       "model_id": "603e1448958f47eebf6e7a62dafcf392",
       "version_major": 2,
       "version_minor": 0
      },
      "text/plain": [
       "Downloading model.safetensors:   0%|          | 0.00/268M [00:00<?, ?B/s]"
      ]
     },
     "metadata": {},
     "output_type": "display_data"
    },
    {
     "data": {
      "application/vnd.jupyter.widget-view+json": {
       "model_id": "0849bd529e80492e8359a77084e0cd31",
       "version_major": 2,
       "version_minor": 0
      },
      "text/plain": [
       "Downloading tokenizer_config.json:   0%|          | 0.00/48.0 [00:00<?, ?B/s]"
      ]
     },
     "metadata": {},
     "output_type": "display_data"
    },
    {
     "data": {
      "application/vnd.jupyter.widget-view+json": {
       "model_id": "2d392cabdf914d06821e55b618adeb05",
       "version_major": 2,
       "version_minor": 0
      },
      "text/plain": [
       "Downloading vocab.txt:   0%|          | 0.00/232k [00:00<?, ?B/s]"
      ]
     },
     "metadata": {},
     "output_type": "display_data"
    },
    {
     "name": "stdout",
     "output_type": "stream",
     "text": [
      "[{'label': 'POSITIVE', 'score': 0.9998656511306763}]\n"
     ]
    }
   ],
   "source": [
    "from transformers import pipeline\n",
    "print(pipeline('sentiment-analysis')('I love you'))"
   ]
  },
  {
   "cell_type": "markdown",
   "id": "abc6edd8-1dac-4df9-af55-211bc757a7b9",
   "metadata": {},
   "source": [
    "# Error\n",
    "Kernel Restarting\n",
    "The kernel for work/testTransformers.ipynb appears to have died. It will restart automatically.\n",
    "\n",
    "Kernel Restarting\n",
    "The kernel for appears to have died. It will restart automatically.\n",
    "\n",
    "# Help-Links\n",
    "\n",
    "- https://medium.com/@faizififita1/huggingface-installation-on-apple-silicon-2022-m1-pro-max-ultra-m2-9c449b9b4c14\n",
    "- https://schultz-christian.medium.com/how-to-run-tensorflow-in-docker-on-an-apple-silicon-mac-c56f3127b696\n"
   ]
  },
  {
   "cell_type": "code",
   "execution_count": 2,
   "id": "96106405-9b6d-468d-96ca-b68691e39e87",
   "metadata": {},
   "outputs": [
    {
     "name": "stdout",
     "output_type": "stream",
     "text": [
      "tensor([0.4839, 0.2129])\n"
     ]
    }
   ],
   "source": [
    "import torch\n",
    "print(torch.nn.GELU()(torch.rand(2)))"
   ]
  },
  {
   "cell_type": "code",
   "execution_count": null,
   "id": "328768f0-7198-412e-ab1a-4df865af14a5",
   "metadata": {},
   "outputs": [],
   "source": []
  }
 ],
 "metadata": {
  "kernelspec": {
   "display_name": "Python 3 (ipykernel)",
   "language": "python",
   "name": "python3"
  },
  "language_info": {
   "codemirror_mode": {
    "name": "ipython",
    "version": 3
   },
   "file_extension": ".py",
   "mimetype": "text/x-python",
   "name": "python",
   "nbconvert_exporter": "python",
   "pygments_lexer": "ipython3",
   "version": "3.11.5"
  }
 },
 "nbformat": 4,
 "nbformat_minor": 5
}
