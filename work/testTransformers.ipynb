{
 "cells": [
  {
   "cell_type": "code",
   "execution_count": 2,
   "id": "d26fad21-3669-4d74-9723-c1593e4007e9",
   "metadata": {},
   "outputs": [
    {
     "name": "stderr",
     "output_type": "stream",
     "text": [
      "/opt/conda/lib/python3.11/site-packages/tqdm/auto.py:21: TqdmWarning: IProgress not found. Please update jupyter and ipywidgets. See https://ipywidgets.readthedocs.io/en/stable/user_install.html\n",
      "  from .autonotebook import tqdm as notebook_tqdm\n"
     ]
    }
   ],
   "source": [
    "from transformers import pipeline\n",
    "print(pipeline('sentiment-analysis')('I love you'))"
   ]
  },
  {
   "cell_type": "markdown",
   "id": "abc6edd8-1dac-4df9-af55-211bc757a7b9",
   "metadata": {},
   "source": [
    "# Error\n",
    "Kernel Restarting\n",
    "The kernel for work/testTransformers.ipynb appears to have died. It will restart automatically.\n",
    "\n",
    "Kernel Restarting\n",
    "The kernel for appears to have died. It will restart automatically.\n",
    "\n",
    "# Help-Links\n",
    "\n",
    "- https://medium.com/@faizififita1/huggingface-installation-on-apple-silicon-2022-m1-pro-max-ultra-m2-9c449b9b4c14\n",
    "- https://schultz-christian.medium.com/how-to-run-tensorflow-in-docker-on-an-apple-silicon-mac-c56f3127b696\n"
   ]
  },
  {
   "cell_type": "code",
   "execution_count": null,
   "id": "96106405-9b6d-468d-96ca-b68691e39e87",
   "metadata": {},
   "outputs": [],
   "source": [
    "import torch\n",
    "print(torch.nn.GELU()(torch.rand(2)))"
   ]
  }
 ],
 "metadata": {
  "kernelspec": {
   "display_name": "Python 3 (ipykernel)",
   "language": "python",
   "name": "python3"
  },
  "language_info": {
   "codemirror_mode": {
    "name": "ipython",
    "version": 3
   },
   "file_extension": ".py",
   "mimetype": "text/x-python",
   "name": "python",
   "nbconvert_exporter": "python",
   "pygments_lexer": "ipython3",
   "version": "3.11.6"
  }
 },
 "nbformat": 4,
 "nbformat_minor": 5
}
