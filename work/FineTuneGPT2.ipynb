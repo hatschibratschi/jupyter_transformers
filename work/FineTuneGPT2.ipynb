{
 "cells": [
  {
   "cell_type": "markdown",
   "id": "e0db8e40-41a1-441e-8ef4-26b0c58fc1e3",
   "metadata": {},
   "source": [
    "# Fine-tune a non-English GPT-2 Model with Huggingface\n",
    "\n",
    "https://colab.research.google.com/github/philschmid/fine-tune-GPT-2/blob/master/Fine_tune_a_non_English_GPT_2_Model_with_Huggingface.ipynb#scrollTo=bH1W6YrdjNSp\n",
    "\n",
    "# Download data\n",
    "\n",
    "https://www.kaggle.com/datasets/sterby/german-recipes-dataset?resource=download\n",
    "\n",
    "# Load json data\n",
    "First, we are going to split the recipes.json into a train and test section and extract Instructions from the recipes and write them into a train_dataset.txt and test_dataset.txt"
   ]
  },
  {
   "cell_type": "code",
   "execution_count": 1,
   "id": "9165c32f-2732-42cc-8587-e70faef50055",
   "metadata": {},
   "outputs": [
    {
     "name": "stdout",
     "output_type": "stream",
     "text": [
      "3.11.5 (main, Sep 11 2023, 08:31:25) [Clang 14.0.6 ]\n"
     ]
    }
   ],
   "source": [
    "# py version\n",
    "import sys\n",
    "print(sys.version)"
   ]
  },
  {
   "cell_type": "code",
   "execution_count": 2,
   "id": "4f6740cf-55cb-465f-8b56-700c1e9342b8",
   "metadata": {},
   "outputs": [
    {
     "name": "stdout",
     "output_type": "stream",
     "text": [
      "Train dataset length: 10361\n",
      "Test dataset length: 1829\n"
     ]
    }
   ],
   "source": [
    "import re\n",
    "import json\n",
    "from sklearn.model_selection import train_test_split\n",
    "\n",
    "with open('recipes.json') as f:\n",
    "    data = json.load(f)\n",
    "\n",
    "def build_text_files(data_json, dest_path):\n",
    "    f = open(dest_path, 'w')\n",
    "    data = ''\n",
    "    for texts in data_json:\n",
    "        summary = str(texts['Instructions']).strip()\n",
    "        summary = re.sub(r\"\\s\", \" \", summary)\n",
    "        data += summary + \"  \"\n",
    "    f.write(data)\n",
    "\n",
    "train, test = train_test_split(data,test_size=0.15) \n",
    "\n",
    "build_text_files(train,'train_dataset.txt')\n",
    "build_text_files(test,'test_dataset.txt')\n",
    "\n",
    "print(\"Train dataset length: \"+str(len(train)))\n",
    "print(\"Test dataset length: \"+ str(len(test)))"
   ]
  },
  {
   "cell_type": "markdown",
   "id": "8b5859fe-2782-4373-b0ea-71dff109994a",
   "metadata": {},
   "source": [
    "# tokenizer\n",
    "download the tokenizer, which we use. We use the tokenizer from the german-gpt2 model on huggingface."
   ]
  },
  {
   "cell_type": "code",
   "execution_count": 1,
   "id": "27bd1e05-05b2-4490-8a66-5e0e3fab1571",
   "metadata": {},
   "outputs": [
    {
     "name": "stderr",
     "output_type": "stream",
     "text": [
      "Special tokens have been added in the vocabulary, make sure the associated word embeddings are fine-tuned or trained.\n"
     ]
    }
   ],
   "source": [
    "from transformers import AutoTokenizer\n",
    "\n",
    "tokenizer = AutoTokenizer.from_pretrained(\"anonymous-german-nlp/german-gpt2\")\n",
    "\n",
    "train_path = 'train_dataset.txt'\n",
    "test_path = 'test_dataset.txt'"
   ]
  },
  {
   "cell_type": "code",
   "execution_count": 2,
   "id": "23df8ebb-58ea-4a2e-b75d-cd48275604ae",
   "metadata": {},
   "outputs": [
    {
     "name": "stderr",
     "output_type": "stream",
     "text": [
      "/opt/homebrew/Caskroom/miniconda/base/lib/python3.11/site-packages/transformers/data/datasets/language_modeling.py:53: FutureWarning: This dataset will be removed from the library soon, preprocessing should be handled with the 🤗 Datasets library. You can have a look at this example script for pointers: https://github.com/huggingface/transformers/blob/main/examples/pytorch/language-modeling/run_mlm.py\n",
      "  warnings.warn(\n"
     ]
    }
   ],
   "source": [
    "from transformers import TextDataset,DataCollatorForLanguageModeling\n",
    "\n",
    "def load_dataset(train_path,test_path,tokenizer):\n",
    "    train_dataset = TextDataset(\n",
    "          tokenizer=tokenizer,\n",
    "          file_path=train_path,\n",
    "          block_size=128)\n",
    "     \n",
    "    test_dataset = TextDataset(\n",
    "          tokenizer=tokenizer,\n",
    "          file_path=test_path,\n",
    "          block_size=128)   \n",
    "    \n",
    "    data_collator = DataCollatorForLanguageModeling(\n",
    "        tokenizer=tokenizer, mlm=False,\n",
    "    )\n",
    "    return train_dataset,test_dataset,data_collator\n",
    "\n",
    "train_dataset,test_dataset,data_collator = load_dataset(train_path,test_path,tokenizer)"
   ]
  },
  {
   "cell_type": "markdown",
   "id": "0cdaf069-eca9-40ea-951d-6e5cd1e7b7ac",
   "metadata": {},
   "source": [
    "# Initialize Trainer with TrainingArguments and GPT-2 model"
   ]
  },
  {
   "cell_type": "code",
   "execution_count": 3,
   "id": "fbf5c446-235c-4cbe-9333-73beb91667ed",
   "metadata": {},
   "outputs": [
    {
     "name": "stderr",
     "output_type": "stream",
     "text": [
      "/opt/homebrew/Caskroom/miniconda/base/lib/python3.11/site-packages/transformers/models/auto/modeling_auto.py:1468: FutureWarning: The class `AutoModelWithLMHead` is deprecated and will be removed in a future version. Please use `AutoModelForCausalLM` for causal language models, `AutoModelForMaskedLM` for masked language models and `AutoModelForSeq2SeqLM` for encoder-decoder models.\n",
      "  warnings.warn(\n"
     ]
    }
   ],
   "source": [
    "from transformers import Trainer, TrainingArguments,AutoModelWithLMHead\n",
    "\n",
    "model = AutoModelWithLMHead.from_pretrained(\"anonymous-german-nlp/german-gpt2\")\n",
    "\n",
    "training_args = TrainingArguments(\n",
    "    output_dir=\"./gpt2-gerchef\", #The output directory\n",
    "    overwrite_output_dir = True, #overwrite the content of the output directory\n",
    "    num_train_epochs = 3, # number of training epochs\n",
    "    per_device_train_batch_size = 32, # batch size for training\n",
    "    per_device_eval_batch_size = 64,  # batch size for evaluation\n",
    "    eval_steps = 400, # Number of update steps between two evaluations.\n",
    "    save_steps = 800, # after # steps model is saved \n",
    "    warmup_steps = 500,# number of warmup steps for learning rate scheduler\n",
    "    prediction_loss_only = True,\n",
    "    )\n",
    "\n",
    "trainer = Trainer(\n",
    "    model=model,\n",
    "    args=training_args,\n",
    "    data_collator=data_collator,\n",
    "    train_dataset=train_dataset,\n",
    "    eval_dataset=test_dataset,\n",
    ")"
   ]
  },
  {
   "cell_type": "markdown",
   "id": "22208284-69bf-414a-9c26-a3c0dc59b681",
   "metadata": {},
   "source": [
    "# Train and save the model\n",
    "\n",
    "To train the model we can simply run `Trainer.train()`."
   ]
  },
  {
   "cell_type": "code",
   "execution_count": null,
   "id": "9763b95e-a255-480e-b205-45f1195f496e",
   "metadata": {},
   "outputs": [
    {
     "data": {
      "text/html": [
       "\n",
       "    <div>\n",
       "      \n",
       "      <progress value='37' max='1476' style='width:300px; height:20px; vertical-align: middle;'></progress>\n",
       "      [  37/1476 07:57 < 5:27:17, 0.07 it/s, Epoch 0.07/3]\n",
       "    </div>\n",
       "    <table border=\"1\" class=\"dataframe\">\n",
       "  <thead>\n",
       " <tr style=\"text-align: left;\">\n",
       "      <th>Step</th>\n",
       "      <th>Training Loss</th>\n",
       "    </tr>\n",
       "  </thead>\n",
       "  <tbody>\n",
       "  </tbody>\n",
       "</table><p>"
      ],
      "text/plain": [
       "<IPython.core.display.HTML object>"
      ]
     },
     "metadata": {},
     "output_type": "display_data"
    }
   ],
   "source": [
    "trainer.train()"
   ]
  },
  {
   "cell_type": "markdown",
   "id": "b12905b3-08a2-454e-9d1b-30be8c1a2587",
   "metadata": {},
   "source": [
    "Kernel Restarting\n",
    "The kernel for appears to have died. It will restart automatically."
   ]
  },
  {
   "cell_type": "code",
   "execution_count": null,
   "id": "146e7c7e-9d1c-4ee7-a782-1780179d3b30",
   "metadata": {},
   "outputs": [],
   "source": [
    "trainer.save_model()"
   ]
  },
  {
   "cell_type": "code",
   "execution_count": null,
   "id": "de43cfc6-f63c-4fe9-908e-e2c4c47612b8",
   "metadata": {},
   "outputs": [],
   "source": []
  }
 ],
 "metadata": {
  "kernelspec": {
   "display_name": "Python 3 (ipykernel)",
   "language": "python",
   "name": "python3"
  },
  "language_info": {
   "codemirror_mode": {
    "name": "ipython",
    "version": 3
   },
   "file_extension": ".py",
   "mimetype": "text/x-python",
   "name": "python",
   "nbconvert_exporter": "python",
   "pygments_lexer": "ipython3",
   "version": "3.11.5"
  }
 },
 "nbformat": 4,
 "nbformat_minor": 5
}
